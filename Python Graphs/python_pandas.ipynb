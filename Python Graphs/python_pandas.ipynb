{
 "cells": [
  {
   "cell_type": "code",
   "execution_count": 7,
   "metadata": {},
   "outputs": [
    {
     "name": "stdout",
     "output_type": "stream",
     "text": [
      "        Name  Roll-Number\n",
      "0      Soham            1\n",
      "1  Indrasish            2\n",
      "2     Tanmoy            3\n",
      "3    Kaustav            4\n",
      "4       Aqib            5\n"
     ]
    }
   ],
   "source": [
    "import pandas as pd\n",
    "import numpy as np\n",
    "class Test:\n",
    "    def main():\n",
    "        abc={\n",
    "            \"Name\":[\"Soham\",\"Indrasish\",\"Tanmoy\",\"Kaustav\",\"Aqib\"],\n",
    "            \"Roll-Number\":[1,2,3,4,5]\n",
    "        }\n",
    "        xyz=pd.DataFrame(abc)\n",
    "        print(xyz)\n",
    "Test.main()        "
   ]
  },
  {
   "cell_type": "code",
   "execution_count": null,
   "metadata": {},
   "outputs": [],
   "source": [
    "import pandas as pd\n",
    "import numpy as np\n",
    "class Test:\n",
    "    def main():\n",
    "        abc={\n",
    "            \"Name\":[]\n",
    "        }\n"
   ]
  }
 ],
 "metadata": {
  "kernelspec": {
   "display_name": "Python 3",
   "language": "python",
   "name": "python3"
  },
  "language_info": {
   "codemirror_mode": {
    "name": "ipython",
    "version": 3
   },
   "file_extension": ".py",
   "mimetype": "text/x-python",
   "name": "python",
   "nbconvert_exporter": "python",
   "pygments_lexer": "ipython3",
   "version": "3.11.4"
  },
  "orig_nbformat": 4
 },
 "nbformat": 4,
 "nbformat_minor": 2
}
