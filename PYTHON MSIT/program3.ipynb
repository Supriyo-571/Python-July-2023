{
 "cells": [
  {
   "cell_type": "code",
   "execution_count": 2,
   "metadata": {},
   "outputs": [
    {
     "name": "stdout",
     "output_type": "stream",
     "text": [
      "My name is Mainak, I study in MSIT college in ECE department.\n",
      "        My MAKAUT Roll Number is 29601253336.\n",
      "        \n"
     ]
    }
   ],
   "source": [
    "class Name:\n",
    "    def main():\n",
    "        a=20\n",
    "        b=\"MSIT\"\n",
    "        c=\"Supriyo\"\n",
    "        d=\"ECE\"\n",
    "        e=29601253336\n",
    "        final_str=\"\"\"My name is {2}, I study in {1} college in {3} department.\n",
    "        My MAKAUT Roll Number is {4}.\n",
    "        \"\"\"\n",
    "        abc=final_str.format(a,b,c,d,e)\n",
    "        print(abc)\n",
    "Name.main()\n",
    "        \n",
    "\n",
    "        "
   ]
  },
  {
   "cell_type": "markdown",
   "metadata": {},
   "source": []
  },
  {
   "cell_type": "code",
   "execution_count": 1,
   "metadata": {},
   "outputs": [
    {
     "name": "stdout",
     "output_type": "stream",
     "text": [
      "\n",
      "Hello World.\n",
      "MSIT.\n",
      "ECE.\n",
      "qwertyuiopasdfghjklzxcvbnm\n",
      "123567\n",
      "23.6566\n",
      "741258963\n",
      "\n"
     ]
    }
   ],
   "source": [
    "a=\"\"\"\n",
    "Hello World.\n",
    "MSIT.\n",
    "ECE.\n",
    "qwertyuiopasdfghjklzxcvbnm\n",
    "123567\n",
    "23.6566\n",
    "741258963\n",
    "\"\"\"\n",
    "print(a)\n",
    "        "
   ]
  }
 ],
 "metadata": {
  "kernelspec": {
   "display_name": "Python 3",
   "language": "python",
   "name": "python3"
  },
  "language_info": {
   "codemirror_mode": {
    "name": "ipython",
    "version": 3
   },
   "file_extension": ".py",
   "mimetype": "text/x-python",
   "name": "python",
   "nbconvert_exporter": "python",
   "pygments_lexer": "ipython3",
   "version": "3.11.4"
  },
  "orig_nbformat": 4
 },
 "nbformat": 4,
 "nbformat_minor": 2
}
